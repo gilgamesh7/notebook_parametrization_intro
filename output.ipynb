{
 "cells": [
  {
   "cell_type": "code",
   "execution_count": 1,
   "id": "00d8e110",
   "metadata": {
    "execution": {
     "iopub.execute_input": "2022-04-01T01:46:08.473351Z",
     "iopub.status.busy": "2022-04-01T01:46:08.472615Z",
     "iopub.status.idle": "2022-04-01T01:46:08.486947Z",
     "shell.execute_reply": "2022-04-01T01:46:08.486368Z"
    },
    "papermill": {
     "duration": 0.031682,
     "end_time": "2022-04-01T01:46:08.489038",
     "exception": false,
     "start_time": "2022-04-01T01:46:08.457356",
     "status": "completed"
    },
    "tags": [
     "parameters"
    ]
   },
   "outputs": [],
   "source": [
    "x = 2\n",
    "y = 5"
   ]
  },
  {
   "cell_type": "code",
   "execution_count": 2,
   "id": "522a31b4",
   "metadata": {
    "execution": {
     "iopub.execute_input": "2022-04-01T01:46:08.501754Z",
     "iopub.status.busy": "2022-04-01T01:46:08.501382Z",
     "iopub.status.idle": "2022-04-01T01:46:08.504043Z",
     "shell.execute_reply": "2022-04-01T01:46:08.503606Z"
    },
    "papermill": {
     "duration": 0.009502,
     "end_time": "2022-04-01T01:46:08.505455",
     "exception": false,
     "start_time": "2022-04-01T01:46:08.495953",
     "status": "completed"
    },
    "tags": [
     "injected-parameters"
    ]
   },
   "outputs": [],
   "source": [
    "# Parameters\n",
    "x = 10\n",
    "y = 20\n"
   ]
  },
  {
   "cell_type": "code",
   "execution_count": 3,
   "id": "b924f776",
   "metadata": {
    "execution": {
     "iopub.execute_input": "2022-04-01T01:46:08.513383Z",
     "iopub.status.busy": "2022-04-01T01:46:08.513156Z",
     "iopub.status.idle": "2022-04-01T01:46:08.515565Z",
     "shell.execute_reply": "2022-04-01T01:46:08.515221Z"
    },
    "papermill": {
     "duration": 0.007681,
     "end_time": "2022-04-01T01:46:08.516805",
     "exception": false,
     "start_time": "2022-04-01T01:46:08.509124",
     "status": "completed"
    },
    "tags": []
   },
   "outputs": [],
   "source": [
    "addition = x + y\n",
    "multiplication = x * y\n"
   ]
  },
  {
   "cell_type": "code",
   "execution_count": 4,
   "id": "32657b82",
   "metadata": {
    "execution": {
     "iopub.execute_input": "2022-04-01T01:46:08.523173Z",
     "iopub.status.busy": "2022-04-01T01:46:08.523057Z",
     "iopub.status.idle": "2022-04-01T01:46:08.525324Z",
     "shell.execute_reply": "2022-04-01T01:46:08.524999Z"
    },
    "papermill": {
     "duration": 0.006717,
     "end_time": "2022-04-01T01:46:08.526470",
     "exception": false,
     "start_time": "2022-04-01T01:46:08.519753",
     "status": "completed"
    },
    "tags": []
   },
   "outputs": [
    {
     "name": "stdout",
     "output_type": "stream",
     "text": [
      "Addition : 30\n",
      "Multiplication : 200\n"
     ]
    }
   ],
   "source": [
    "print(f\"Addition : {addition}\")\n",
    "print(f\"Multiplication : {multiplication}\")"
   ]
  },
  {
   "cell_type": "code",
   "execution_count": null,
   "id": "a8f00b83",
   "metadata": {
    "papermill": {
     "duration": 0.002572,
     "end_time": "2022-04-01T01:46:08.532284",
     "exception": false,
     "start_time": "2022-04-01T01:46:08.529712",
     "status": "completed"
    },
    "tags": []
   },
   "outputs": [],
   "source": []
  }
 ],
 "metadata": {
  "celltoolbar": "Tags",
  "interpreter": {
   "hash": "4e04e62dc0fb3aee178b219dec57de892b89ff880993a1b6cfe805d0534c547a"
  },
  "kernelspec": {
   "display_name": "Python 3 (ipykernel)",
   "language": "python",
   "name": "python3"
  },
  "language_info": {
   "codemirror_mode": {
    "name": "ipython",
    "version": 3
   },
   "file_extension": ".py",
   "mimetype": "text/x-python",
   "name": "python",
   "nbconvert_exporter": "python",
   "pygments_lexer": "ipython3",
   "version": "3.10.2"
  },
  "papermill": {
   "default_parameters": {},
   "duration": 0.833003,
   "end_time": "2022-04-01T01:46:08.650104",
   "environment_variables": {},
   "exception": null,
   "input_path": "/Users/vrbabu/Documents/code/Notebook_Parametrization_Python/notebook_parametrization_intro/parametrising_notebooks.ipynb",
   "output_path": "/Users/vrbabu/Documents/code/Notebook_Parametrization_Python/notebook_parametrization_intro/output.ipynb",
   "parameters": {
    "x": 10,
    "y": 20
   },
   "start_time": "2022-04-01T01:46:07.817101",
   "version": "2.3.4"
  }
 },
 "nbformat": 4,
 "nbformat_minor": 5
}