{
 "cells": [
  {
   "cell_type": "code",
   "execution_count": 2,
   "id": "512b5735",
   "metadata": {},
   "outputs": [],
   "source": [
    "import papermill as pm"
   ]
  },
  {
   "cell_type": "code",
   "execution_count": 3,
   "id": "04586899",
   "metadata": {},
   "outputs": [
    {
     "name": "stderr",
     "output_type": "stream",
     "text": [
      "Black is not installed, parameters wont be formatted\n",
      "/Users/vrbabu/Documents/code/Notebook_Parametrization_Python/notebook_parametrization_intro/venv/lib/python3.10/site-packages/tqdm/auto.py:22: TqdmWarning: IProgress not found. Please update jupyter and ipywidgets. See https://ipywidgets.readthedocs.io/en/stable/user_install.html\n",
      "  from .autonotebook import tqdm as notebook_tqdm\n",
      "Executing: 100%|████████████████████████████████| 5/5 [00:00<00:00,  6.00cell/s]\n"
     ]
    },
    {
     "data": {
      "text/plain": [
       "{'cells': [{'cell_type': 'code',\n",
       "   'execution_count': 1,\n",
       "   'metadata': {'tags': ['parameters'],\n",
       "    'papermill': {'exception': False,\n",
       "     'start_time': '2022-04-01T01:46:08.457356',\n",
       "     'end_time': '2022-04-01T01:46:08.489038',\n",
       "     'duration': 0.031682,\n",
       "     'status': 'completed'},\n",
       "    'execution': {'iopub.status.busy': '2022-04-01T01:46:08.472615Z',\n",
       "     'iopub.execute_input': '2022-04-01T01:46:08.473351Z',\n",
       "     'iopub.status.idle': '2022-04-01T01:46:08.486947Z',\n",
       "     'shell.execute_reply': '2022-04-01T01:46:08.486368Z'}},\n",
       "   'outputs': [],\n",
       "   'source': 'x = 2\\ny = 5',\n",
       "   'id': '00d8e110'},\n",
       "  {'id': '522a31b4',\n",
       "   'cell_type': 'code',\n",
       "   'metadata': {'tags': ['injected-parameters'],\n",
       "    'papermill': {'exception': False,\n",
       "     'start_time': '2022-04-01T01:46:08.495953',\n",
       "     'end_time': '2022-04-01T01:46:08.505455',\n",
       "     'duration': 0.009502,\n",
       "     'status': 'completed'},\n",
       "    'execution': {'iopub.status.busy': '2022-04-01T01:46:08.501382Z',\n",
       "     'iopub.execute_input': '2022-04-01T01:46:08.501754Z',\n",
       "     'iopub.status.idle': '2022-04-01T01:46:08.504043Z',\n",
       "     'shell.execute_reply': '2022-04-01T01:46:08.503606Z'}},\n",
       "   'execution_count': 2,\n",
       "   'source': '# Parameters\\nx = 10\\ny = 20\\n',\n",
       "   'outputs': []},\n",
       "  {'cell_type': 'code',\n",
       "   'execution_count': 3,\n",
       "   'metadata': {'tags': [],\n",
       "    'papermill': {'exception': False,\n",
       "     'start_time': '2022-04-01T01:46:08.509124',\n",
       "     'end_time': '2022-04-01T01:46:08.516805',\n",
       "     'duration': 0.007681,\n",
       "     'status': 'completed'},\n",
       "    'execution': {'iopub.status.busy': '2022-04-01T01:46:08.513156Z',\n",
       "     'iopub.execute_input': '2022-04-01T01:46:08.513383Z',\n",
       "     'iopub.status.idle': '2022-04-01T01:46:08.515565Z',\n",
       "     'shell.execute_reply': '2022-04-01T01:46:08.515221Z'}},\n",
       "   'outputs': [],\n",
       "   'source': 'addition = x + y\\nmultiplication = x * y\\n',\n",
       "   'id': 'b924f776'},\n",
       "  {'cell_type': 'code',\n",
       "   'execution_count': 4,\n",
       "   'metadata': {'tags': [],\n",
       "    'papermill': {'exception': False,\n",
       "     'start_time': '2022-04-01T01:46:08.519753',\n",
       "     'end_time': '2022-04-01T01:46:08.526470',\n",
       "     'duration': 0.006717,\n",
       "     'status': 'completed'},\n",
       "    'execution': {'iopub.status.busy': '2022-04-01T01:46:08.523057Z',\n",
       "     'iopub.execute_input': '2022-04-01T01:46:08.523173Z',\n",
       "     'iopub.status.idle': '2022-04-01T01:46:08.525324Z',\n",
       "     'shell.execute_reply': '2022-04-01T01:46:08.524999Z'}},\n",
       "   'outputs': [{'output_type': 'stream',\n",
       "     'name': 'stdout',\n",
       "     'text': 'Addition : 30\\nMultiplication : 200\\n'}],\n",
       "   'source': 'print(f\"Addition : {addition}\")\\nprint(f\"Multiplication : {multiplication}\")',\n",
       "   'id': '32657b82'},\n",
       "  {'cell_type': 'code',\n",
       "   'execution_count': None,\n",
       "   'metadata': {'tags': [],\n",
       "    'papermill': {'exception': False,\n",
       "     'start_time': '2022-04-01T01:46:08.529712',\n",
       "     'end_time': '2022-04-01T01:46:08.532284',\n",
       "     'duration': 0.002572,\n",
       "     'status': 'completed'}},\n",
       "   'outputs': [],\n",
       "   'source': '',\n",
       "   'id': 'a8f00b83'}],\n",
       " 'metadata': {'celltoolbar': 'Tags',\n",
       "  'interpreter': {'hash': '4e04e62dc0fb3aee178b219dec57de892b89ff880993a1b6cfe805d0534c547a'},\n",
       "  'kernelspec': {'display_name': 'Python 3 (ipykernel)',\n",
       "   'language': 'python',\n",
       "   'name': 'python3'},\n",
       "  'language_info': {'name': 'python',\n",
       "   'version': '3.10.2',\n",
       "   'mimetype': 'text/x-python',\n",
       "   'codemirror_mode': {'name': 'ipython', 'version': 3},\n",
       "   'pygments_lexer': 'ipython3',\n",
       "   'nbconvert_exporter': 'python',\n",
       "   'file_extension': '.py'},\n",
       "  'orig_nbformat_minor': 2,\n",
       "  'papermill': {'default_parameters': {},\n",
       "   'parameters': {'x': 10, 'y': 20},\n",
       "   'environment_variables': {},\n",
       "   'version': '2.3.4',\n",
       "   'input_path': '/Users/vrbabu/Documents/code/Notebook_Parametrization_Python/notebook_parametrization_intro/parametrising_notebooks.ipynb',\n",
       "   'output_path': '/Users/vrbabu/Documents/code/Notebook_Parametrization_Python/notebook_parametrization_intro/output.ipynb',\n",
       "   'start_time': '2022-04-01T01:46:07.817101',\n",
       "   'end_time': '2022-04-01T01:46:08.650104',\n",
       "   'duration': 0.833003,\n",
       "   'exception': None}},\n",
       " 'nbformat': 4,\n",
       " 'nbformat_minor': 5}"
      ]
     },
     "execution_count": 3,
     "metadata": {},
     "output_type": "execute_result"
    }
   ],
   "source": [
    "pm.execute_notebook(\n",
    "'/Users/vrbabu/Documents/code/Notebook_Parametrization_Python/notebook_parametrization_intro/parametrising_notebooks.ipynb',\n",
    "'/Users/vrbabu/Documents/code/Notebook_Parametrization_Python/notebook_parametrization_intro/output.ipynb',\n",
    "parameters = dict(x=10, y=20)    \n",
    ")"
   ]
  },
  {
   "cell_type": "code",
   "execution_count": null,
   "id": "6bb789f9",
   "metadata": {},
   "outputs": [],
   "source": []
  }
 ],
 "metadata": {
  "kernelspec": {
   "display_name": "Python 3 (ipykernel)",
   "language": "python",
   "name": "python3"
  },
  "language_info": {
   "codemirror_mode": {
    "name": "ipython",
    "version": 3
   },
   "file_extension": ".py",
   "mimetype": "text/x-python",
   "name": "python",
   "nbconvert_exporter": "python",
   "pygments_lexer": "ipython3",
   "version": "3.10.2"
  }
 },
 "nbformat": 4,
 "nbformat_minor": 5
}
